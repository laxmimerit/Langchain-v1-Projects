{
 "cells": [
  {
   "cell_type": "code",
   "execution_count": 14,
   "id": "8fd2b4bc",
   "metadata": {},
   "outputs": [
    {
     "data": {
      "text/plain": [
       "True"
      ]
     },
     "execution_count": 14,
     "metadata": {},
     "output_type": "execute_result"
    }
   ],
   "source": [
    "import os\n",
    "from typing import Literal\n",
    "from pydantic import BaseModel, Field\n",
    "\n",
    "# Core imports matching the tutorial\n",
    "from langchain_chroma import Chroma\n",
    "from langchain_ollama import OllamaEmbeddings, ChatOllama\n",
    "from langchain_core.tools import tool\n",
    "from langchain_core.messages import convert_to_messages\n",
    "from langgraph.graph import MessagesState, StateGraph, START, END\n",
    "from langchain.agents.tool_node import ToolNode, tools_condition\n",
    "\n",
    "from dotenv import load_dotenv\n",
    "load_dotenv('./../.env')\n"
   ]
  },
  {
   "cell_type": "code",
   "execution_count": null,
   "id": "9db37bc9",
   "metadata": {},
   "outputs": [
    {
     "name": "stdout",
     "output_type": "stream",
     "text": [
      "Connecting to existing Chroma vector store...\n",
      "✓ Connected to existing vector store\n"
     ]
    }
   ],
   "source": [
    "# ============================================================================\n",
    "# STEP 1: CONNECT TO EXISTING VECTOR STORE\n",
    "# ============================================================================\n",
    "print(\"Connecting to existing Chroma vector store...\")\n",
    "\n",
    "# Use the same embeddings as your ingestion code\n",
    "embeddings = OllamaEmbeddings(\n",
    "    model=\"nomic-embed-text\",\n",
    "    base_url=\"http://localhost:11434\"\n",
    ")\n",
    "\n",
    "# Chroma Vector Store (assumes data already exists from previous code)\n",
    "vector_store = Chroma(\n",
    "    collection_name=\"pdf_collection\",\n",
    "    embedding_function=embeddings,\n",
    "    persist_directory=\"..\\\\01 Semantic Search\\\\chroma_db\"\n",
    ")\n",
    "\n",
    "print(\"✓ Connected to existing vector store\")\n"
   ]
  },
  {
   "cell_type": "code",
   "execution_count": null,
   "id": "481e4b67",
   "metadata": {},
   "outputs": [
    {
     "name": "stdout",
     "output_type": "stream",
     "text": [
      "✓ Created retriever tool\n"
     ]
    }
   ],
   "source": [
    "# ============================================================================\n",
    "# STEP 2: CREATE RETRIEVER TOOL\n",
    "# ============================================================================\n",
    "@tool\n",
    "def retrieve_documents(query: str):\n",
    "    \"\"\"Search and return information from the PDF documents in the database.\"\"\"\n",
    "    print(f\"🔍 Searching: '{query}'\")\n",
    "    \n",
    "    # Perform similarity search using the retriever\n",
    "    docs = vector_store.similarity_search(query,k=4)\n",
    "    \n",
    "    # Format results for the LLM\n",
    "    if docs:\n",
    "        content = \"\\n\\n\".join(\n",
    "            f\"Page {doc.metadata.get('page', '?')}: {doc.page_content}\" \n",
    "            for doc in docs\n",
    "        )\n",
    "        print(f\"✓ Found {len(docs)} relevant chunks\")\n",
    "        return content\n",
    "    else:\n",
    "        print(\"✗ No relevant documents found\")\n",
    "        return \"No relevant information found.\"\n",
    "\n",
    "retriever_tool = retrieve_documents\n",
    "\n",
    "print(\"✓ Created retriever tool\")"
   ]
  },
  {
   "cell_type": "code",
   "execution_count": 4,
   "id": "c538b705",
   "metadata": {},
   "outputs": [
    {
     "name": "stdout",
     "output_type": "stream",
     "text": [
      "✓ Initialized chat models\n"
     ]
    }
   ],
   "source": [
    "# ============================================================================\n",
    "# STEP 3: INITIALIZE MODELS\n",
    "# ============================================================================\n",
    "# Using ChatOllama instead of OpenAI\n",
    "response_model = ChatOllama(\n",
    "    model=\"qwen3\", \n",
    "    base_url=\"http://localhost:11434\",\n",
    "    temperature=0\n",
    ")\n",
    "grader_model = ChatOllama(\n",
    "    model=\"qwen3\", \n",
    "    base_url=\"http://localhost:11434\",\n",
    "    temperature=0\n",
    ")\n",
    "\n",
    "print(\"✓ Initialized chat models\")\n"
   ]
  },
  {
   "cell_type": "code",
   "execution_count": 5,
   "id": "99d810ac",
   "metadata": {},
   "outputs": [],
   "source": [
    "# ============================================================================\n",
    "# STEP 4: NODE FUNCTIONS (from tutorial)\n",
    "# ============================================================================\n",
    "\n",
    "def generate_query_or_respond(state: MessagesState):\n",
    "    \"\"\"Call the model to generate a response based on the current state. Given\n",
    "    the question, it will decide to retrieve using the retriever tool, or simply respond to the user.\n",
    "    \"\"\"\n",
    "    response = (\n",
    "        response_model\n",
    "        .bind_tools([retriever_tool]).invoke(state[\"messages\"])  \n",
    "    )\n",
    "    return {\"messages\": [response]}"
   ]
  },
  {
   "cell_type": "code",
   "execution_count": 6,
   "id": "82d98802",
   "metadata": {},
   "outputs": [],
   "source": [
    "# Document grading\n",
    "GRADE_PROMPT = (\n",
    "    \"You are a grader assessing relevance of a retrieved document to a user question. \\n \"\n",
    "    \"Here is the retrieved document: \\n\\n {context} \\n\\n\"\n",
    "    \"Here is the user question: {question} \\n\"\n",
    "    \"If the document contains keyword(s) or semantic meaning related to the user question, grade it as relevant. \\n\"\n",
    "    \"Give a binary score 'yes' or 'no' score to indicate whether the document is relevant to the question.\"\n",
    ")\n",
    "\n",
    "class GradeDocuments(BaseModel):  \n",
    "    \"\"\"Grade documents using a binary score for relevance check.\"\"\"\n",
    "    binary_score: str = Field(\n",
    "        description=\"Relevance score: 'yes' if relevant, or 'no' if not relevant\"\n",
    "    )\n",
    "\n",
    "def grade_documents(\n",
    "    state: MessagesState,\n",
    ") -> Literal[\"generate_answer\", \"rewrite_question\"]:\n",
    "    \"\"\"Determine whether the retrieved documents are relevant to the question.\"\"\"\n",
    "    question = state[\"messages\"][0].content\n",
    "    context = state[\"messages\"][-1].content\n",
    "\n",
    "    prompt = GRADE_PROMPT.format(question=question, context=context)\n",
    "    response = (\n",
    "        grader_model\n",
    "        .with_structured_output(GradeDocuments).invoke(  \n",
    "            [{\"role\": \"user\", \"content\": prompt}]\n",
    "        )\n",
    "    )\n",
    "    score = response.binary_score\n",
    "\n",
    "    if score == \"yes\":\n",
    "        return \"generate_answer\"\n",
    "    else:\n",
    "        return \"rewrite_question\""
   ]
  },
  {
   "cell_type": "code",
   "execution_count": 7,
   "id": "97f1da00",
   "metadata": {},
   "outputs": [],
   "source": [
    "# Question rewriting\n",
    "REWRITE_PROMPT = (\n",
    "    \"Look at the input and try to reason about the underlying semantic intent / meaning.\\n\"\n",
    "    \"Here is the initial question:\"\n",
    "    \"\\n ------- \\n\"\n",
    "    \"{question}\"\n",
    "    \"\\n ------- \\n\"\n",
    "    \"Formulate an improved question:\"\n",
    ")\n",
    "\n",
    "def rewrite_question(state: MessagesState):\n",
    "    \"\"\"Rewrite the original user question.\"\"\"\n",
    "    messages = state[\"messages\"]\n",
    "    question = messages[0].content\n",
    "    prompt = REWRITE_PROMPT.format(question=question)\n",
    "    response = response_model.invoke([{\"role\": \"user\", \"content\": prompt}])\n",
    "    return {\"messages\": [{\"role\": \"user\", \"content\": response.content}]}\n"
   ]
  },
  {
   "cell_type": "code",
   "execution_count": 8,
   "id": "68f9d588",
   "metadata": {},
   "outputs": [
    {
     "name": "stdout",
     "output_type": "stream",
     "text": [
      "✓ Defined all node functions\n"
     ]
    }
   ],
   "source": [
    "# Answer generation\n",
    "GENERATE_PROMPT = (\n",
    "    \"You are an assistant for question-answering tasks. \"\n",
    "    \"Use the following pieces of retrieved context to answer the question. \"\n",
    "    \"If you don't know the answer, just say that you don't know. \"\n",
    "    \"Use three sentences maximum and keep the answer concise.\\n\"\n",
    "    \"Question: {question} \\n\"\n",
    "    \"Context: {context}\"\n",
    ")\n",
    "\n",
    "def generate_answer(state: MessagesState):\n",
    "    \"\"\"Generate an answer.\"\"\"\n",
    "    question = state[\"messages\"][0].content\n",
    "    context = state[\"messages\"][-1].content\n",
    "    prompt = GENERATE_PROMPT.format(question=question, context=context)\n",
    "    response = response_model.invoke([{\"role\": \"user\", \"content\": prompt}])\n",
    "    return {\"messages\": [response]}\n",
    "\n",
    "print(\"✓ Defined all node functions\")\n"
   ]
  },
  {
   "cell_type": "code",
   "execution_count": 9,
   "id": "c69fb64a",
   "metadata": {},
   "outputs": [
    {
     "name": "stdout",
     "output_type": "stream",
     "text": [
      "✓ Assembled and compiled the graph\n"
     ]
    }
   ],
   "source": [
    "# ============================================================================\n",
    "# STEP 5: ASSEMBLE THE GRAPH\n",
    "# ============================================================================\n",
    "workflow = StateGraph(MessagesState)\n",
    "\n",
    "# Define the nodes we will cycle between\n",
    "workflow.add_node(generate_query_or_respond)\n",
    "workflow.add_node(\"retrieve\", ToolNode([retriever_tool]))\n",
    "workflow.add_node(rewrite_question)\n",
    "workflow.add_node(generate_answer)\n",
    "\n",
    "workflow.add_edge(START, \"generate_query_or_respond\")\n",
    "\n",
    "# Decide whether to retrieve\n",
    "workflow.add_conditional_edges(\n",
    "    \"generate_query_or_respond\",\n",
    "    # Assess LLM decision (call `retriever_tool` tool or respond to the user)\n",
    "    tools_condition,\n",
    "    {\n",
    "        # Translate the condition outputs to nodes in our graph\n",
    "        \"tools\": \"retrieve\",\n",
    "        END: END,\n",
    "    },\n",
    ")\n",
    "\n",
    "# Edges taken after the `action` node is called.\n",
    "workflow.add_conditional_edges(\n",
    "    \"retrieve\",\n",
    "    # Assess agent decision\n",
    "    grade_documents,\n",
    ")\n",
    "workflow.add_edge(\"generate_answer\", END)\n",
    "workflow.add_edge(\"rewrite_question\", \"generate_query_or_respond\")\n",
    "\n",
    "# Compile\n",
    "graph = workflow.compile()\n",
    "\n",
    "print(\"✓ Assembled and compiled the graph\")\n"
   ]
  },
  {
   "cell_type": "code",
   "execution_count": 13,
   "id": "e8187cc6",
   "metadata": {},
   "outputs": [
    {
     "data": {
      "image/png": "[encoded data removed]",
      "text/plain": [
       "<langgraph.graph.state.CompiledStateGraph object at 0x000001F0F4427AD0>"
      ]
     },
     "execution_count": 13,
     "metadata": {},
     "output_type": "execute_result"
    }
   ],
   "source": [
    "graph"
   ]
  },
  {
   "cell_type": "code",
   "execution_count": 10,
   "id": "2d56d3ce",
   "metadata": {},
   "outputs": [],
   "source": [
    "# ============================================================================\n",
    "# STEP 6: TEST THE AGENTIC RAG\n",
    "# ============================================================================\n",
    "def run_agentic_rag(question: str):\n",
    "    \"\"\"Run the agentic RAG system with a question\"\"\"\n",
    "    print(f\"\\n{'='*60}\")\n",
    "    print(f\"QUESTION: {question}\")\n",
    "    print(f\"{'='*60}\")\n",
    "    \n",
    "    for chunk in graph.stream(\n",
    "        {\n",
    "            \"messages\": [\n",
    "                {\n",
    "                    \"role\": \"user\",\n",
    "                    \"content\": question,\n",
    "                }\n",
    "            ]\n",
    "        }\n",
    "    ):\n",
    "        for node, update in chunk.items():\n",
    "            print(f\"\\nUpdate from node: {node}\")\n",
    "            print(\"-\" * 40)\n",
    "            print(update[\"messages\"][-1])\n",
    "            print()"
   ]
  },
  {
   "cell_type": "code",
   "execution_count": 11,
   "id": "b8023989",
   "metadata": {},
   "outputs": [
    {
     "name": "stdout",
     "output_type": "stream",
     "text": [
      "\n",
      "============================================================\n",
      "QUESTION: What are the main methods mentioned in this paper?\n",
      "============================================================\n",
      "\n",
      "Update from node: generate_query_or_respond\n",
      "----------------------------------------\n",
      "content='<think>\\nOkay, the user is asking about the main methods mentioned in a paper. But wait, the tools provided here are for retrieving documents from PDFs in a database. The function given is retrieve_documents, which takes a query parameter. However, the user\\'s question is about a paper\\'s methods, which implies they might be referring to a specific document they\\'ve uploaded or that\\'s in the database.\\n\\nWait, the problem is that the current tools don\\'t have a function that can extract methods from a paper. The retrieve_documents function is for searching and returning information from PDFs, but the user is asking for specific content (methods) which might require a different function, like extract_methods or something similar. But according to the tools provided, such a function isn\\'t available. \\n\\nHmm, maybe the user expects me to use the retrieve_documents function with a query about methods. So I should call retrieve_documents with the query \"main methods mentioned in this paper.\" But the function\\'s description says it searches and returns info from PDFs. If the database has the paper\\'s content, this function might retrieve the methods section. However, without knowing the exact content, I can\\'t be sure. But since that\\'s the only tool available, I have to use it. So the correct approach is to call retrieve_documents with the query parameter set to \"main methods mentioned in this paper.\"\\n</think>\\n\\n' additional_kwargs={} response_metadata={'model': 'qwen3', 'created_at': '2025-09-21T15:23:53.4762445Z', 'done': True, 'done_reason': 'stop', 'total_duration': 2076122400, 'load_duration': 76439100, 'prompt_eval_count': 152, 'prompt_eval_duration': 162545300, 'eval_count': 304, 'eval_duration': 1835961300, 'model_name': 'qwen3'} id='run--a5d33a90-7b78-4baa-94b4-57e4473b103e-0' tool_calls=[{'type': 'tool_call', 'id': '98687a32-c858-4808-9ea1-b03444403015', 'name': 'retrieve_documents', 'args': {'query': 'main methods mentioned in this paper'}}] usage_metadata={'input_tokens': 152, 'output_tokens': 304, 'total_tokens': 456}\n",
      "\n",
      "🔍 Searching: 'main methods mentioned in this paper'\n",
      "✓ Found 4 relevant chunks\n",
      "\n",
      "Update from node: retrieve\n",
      "----------------------------------------\n",
      "content='Page 103: Method Non-football (DROP) Football (DROP) GSM8k\\nZero-Shot 43.86 51.77 16.38\\nStandard Prompting 58.78 62.73 17.06\\nChain-of-Thought 74.77 59.56 60.87\\nLeast-to-Most 82.45 73.42 62.39\\nTable 36: Accuracies of different prompting methods on GSM8k and DROP benchmarks. Source:\\nZhou et al. [244]\\nDECOMP is a text-based prompting strategy that decomposes complex tasks into simpler\\nsubtasks and generates a plan to solve the task, similar to Least-to-Most prompting. The\\ncore idea of Decomposed Prompting involves dividing a complex task into multiple simpler\\nsubtasks. Each subtask is addressed separately using LLMs, and their results are then combined\\nto produce the final outcome. Tasks are decomposed based on their inherent structure. For\\ninstance, a question-answering task might be split into subtasks involving information retrieval,\\ncomprehension, and synthesis. The model can process each step more effectively by focusing\\non these individual components.\\nFigure 48: The DECOMP framework. Source: Khot et al. [175]\\n\\nPage 4: the transformative impact of LLMs across various domains, including healthcare, finance,\\neducation, law, and scientific research.\\n• Section 3 focuses on the fundamental building blocks of LLMs, covering data preprocess-\\ning techniques, pre-training methodologies, and model adaptation strategies. It explores\\nvarious pre-training approaches, including unsupervised, supervised, and semi-supervised\\nlearning, emphasizing their impact on model performance and adaptability. The section\\nalso examines different data sources used in LLM training, categorizing them into gen-\\neral data like Web pages, books, and conversation text, specialized data such as scientific\\nliterature and code, and widely used datasets like Wikipedia, BookCorpus, and Com-\\nmonCrawl. It details the critical data preprocessing steps, such as quality filtering, data\\ncleaning, deduplication, and tokenization, and their role in preparing data for effective\\nLLM training. Moreover, it discusses model adaptation techniques like instruction tuning\\n\\nPage 95: Taylor need to do before this? A. get a certificate , B. teach\\nsmall children, C. work in a school\\nARC Science Choose your answer to the question: Which technology was\\ndeveloped most recently? A. cellular telephone, B. television,\\nC. refrigerator, D. airplane\\nQASC Science Choose your answer to the question: What is described in terms\\nof temperature and water in the air? A. storms; B. climate;\\nC. mass; D. seasonal; E. winter; F. density; G. length\\nHellaSWAG Event Choose your answer to the question: We see a chair with a pillow\\non it. A. a man holding a cat does curling. B. a man holding a\\ncat starts hitting objects on an item. C. a man holding a cat is\\nwrapping a box. D. a man holding a cat sits down on the\\nchair.\\nNumerSense Numerical a square is a shape with 〈mask〉equally length sides. (four)\\nProtoQA Prototypical Use simple words separated by commas to name something in\\nyour life that could cause you to lose weight. ( Eating less,\\nexercising more, stress.)\\n\\nPage 102: Figure 47: Least-to-most prompting teaches language models how to solve a complex problem by\\ndecomposing it to a series of simpler subproblems. It consists of two sequential stages: (1) decompo-\\nsition and (2) sequentially solving subproblems. The answer to the second subproblem is built on the\\nanswer to the first subproblem. The demonstration examples for each stage’s prompt are omitted in\\nthis illustration. Source: Zhou et al. [244]\\nLeast-to-most prompting also achieves 99.7% accuracy on the SCAN102 compositional gener-\\nalization benchmark with only 14 exemplars, compared to 16% with Chain-of-Thought prompt-\\ning. Table 35 shows the accuracy comparison. Least-to-most improves performance on GSM8k\\nand DROP benchmarks, particularly for problems requiring multiple solving steps. Table 36\\nshows the accuracy comparison.\\nMethod Code-davinci-002 Text-davinci-002 Code-davinci-001\\nStandard Prompting 16.7 6.0 0.4\\nChain-of-Thought 16.2 0.0 0.0\\nLeast-to-Most 99.7 76.0 60.7' name='retrieve_documents' id='76897c9f-39a1-4649-9d7f-3e51ae3e9364' tool_call_id='98687a32-c858-4808-9ea1-b03444403015'\n",
      "\n",
      "\n",
      "Update from node: generate_answer\n",
      "----------------------------------------\n",
      "content=\"<think>\\nOkay, let's tackle this question. The user is asking about the main methods mentioned in the paper. The context provided has several pages with different information.\\n\\nFirst, looking at Page 103, there's a table comparing different prompting methods: Zero-Shot, Standard Prompting, Chain-of-Thought, and Least-to-Most. These seem to be methods evaluated on benchmarks like GSM8k and DROP. Then, on Page 95, there are some example questions and answers, but they might not be the main methods. \\n\\nFurther down, Page 102 talks about Least-to-most prompting in detail, explaining its two stages: decomposition and solving subproblems. Also, there's mention of DECOMP as a text-based strategy that breaks tasks into subtasks. The context also references other methods like Chain-of-Thought and Standard Prompting from the table. \\n\\nThe user wants the main methods mentioned. From the context, the key methods are Zero-Shot, Standard Prompting, Chain-of-Thought, Least-to-Most, and DECOMP. However, the question is about the paper's main methods. The table on Page 103 lists these methods, and the DECOMP is explained in detail on Page 102. The answer should list these methods concisely. Need to make sure not to include other parts like the examples or the sections about LLMs. So, the main methods are Zero-Shot, Standard Prompt, Chain-of-Thought, Least-to-Most, and DECOMP. But wait, the user might be referring to the methods discussed in the paper, which includes the ones in the table and the DECOMP framework. So the answer should list these methods as the main ones mentioned.\\n</think>\\n\\nThe main methods mentioned in the paper include Zero-Shot, Standard Prompting, Chain-of-Thought, Least-to-Most, and Decomposed Prompting (DECOMP). These methods are evaluated on benchmarks like GSM8k and DROP, with Least-to-Most and DECOMP emphasizing task decomposition into subtasks for improved performance. The paper highlights their effectiveness in handling complex problem-solving scenarios.\" additional_kwargs={} response_metadata={'model': 'qwen3', 'created_at': '2025-09-21T15:24:03.5887184Z', 'done': True, 'done_reason': 'stop', 'total_duration': 2901463000, 'load_duration': 158631900, 'prompt_eval_count': 1106, 'prompt_eval_duration': 118999700, 'eval_count': 437, 'eval_duration': 2623163300, 'model_name': 'qwen3'} id='run--9eb3fa01-b629-4c19-92ca-18892aef3370-0' usage_metadata={'input_tokens': 1106, 'output_tokens': 437, 'total_tokens': 1543}\n",
      "\n"
     ]
    }
   ],
   "source": [
    "question = \"What are the main methods mentioned in this paper?\"\n",
    "run_agentic_rag(question)\n"
   ]
  },
  {
   "cell_type": "code",
   "execution_count": 12,
   "id": "c2b8e303",
   "metadata": {},
   "outputs": [
    {
     "name": "stdout",
     "output_type": "stream",
     "text": [
      "\n",
      "============================================================\n",
      "QUESTION: Tell me about earth\n",
      "============================================================\n",
      "\n",
      "Update from node: generate_query_or_respond\n",
      "----------------------------------------\n",
      "content='<think>\\nOkay, the user asked \"Tell me about earth.\" I need to figure out how to respond. Let me check the tools available. There\\'s a function called retrieve_documents that searches PDF documents in the database. The function requires a query parameter. Since the user is asking about Earth, I should use this function to get information from the documents. The query parameter should be \"Earth\" or \"about Earth.\" Let me call the function with \"Earth\" as the query. That should retrieve the relevant information from the PDFs. I\\'ll structure the tool call accordingly.\\n</think>\\n\\n' additional_kwargs={} response_metadata={'model': 'qwen3', 'created_at': '2025-09-21T15:24:04.5412232Z', 'done': True, 'done_reason': 'stop', 'total_duration': 938370100, 'load_duration': 118749500, 'prompt_eval_count': 146, 'prompt_eval_duration': 21908400, 'eval_count': 138, 'eval_duration': 796173900, 'model_name': 'qwen3'} id='run--cb87ed83-2bfb-47ca-b656-954b6806dfe5-0' tool_calls=[{'type': 'tool_call', 'id': '68f1825e-08ba-4b9d-b966-43b3e5b8db8d', 'name': 'retrieve_documents', 'args': {'query': 'Earth'}}] usage_metadata={'input_tokens': 146, 'output_tokens': 138, 'total_tokens': 284}\n",
      "\n",
      "🔍 Searching: 'Earth'\n",
      "✓ Found 4 relevant chunks\n",
      "\n",
      "Update from node: retrieve\n",
      "----------------------------------------\n",
      "content='Page 99: The environment is the world where the task is executed, which can be set up as the LLM\\nitself or an external system, e.g., a simulator or a virtual world like Minecraft [359, 337]. The\\nenvironment provides feedback to the task planner about the result of the actions, which can\\nbe used to update the plan, either in the form of natural language or from other multimodal\\nsignals [322, 301]\\n4.4.3 Plan generation\\nFor solving complex tasks, the planner needs to generate a long-term and multi-step plan, which\\nrequires the planner to be able to reason over long-term dependencies and develop a coherent\\nand consistent plan. First, it needs to understand the task and break it down into sub-tasks,\\nthen generate a plan that can accomplish the task by executing the sub-tasks in a proper order.\\nThe plan should be generated in an interpretable and executable way by the executor, which\\nacts according to the plan and interacts with the environment to accomplish the task. The\\n\\nPage 173: 2024-04-14.\\n[391] Common Crawl. https://commoncrawl.org/. Accessed: 2024-04-15.\\n[392] Project Gutenberg. https://www.gutenberg.org/. Accessed: 2024-04-14.\\n[393] Wikipedia. https://en.wikipedia.org/wiki/Main_Page. Accessed: 2024-04-14.\\n174\\n\\nPage 17: the top 500 students in the US in a qualifier for the USA Math Olympiad (AIME), and exceeds human PhD-level\\naccuracy on a benchmark of physics, biology, and chemistry problems (GPQA).\\n20Claude 3.5 Sonnet and Gemini\\n21adversarial prompts that purposely try to circumvent model refusals for content it’s not supposed to produce\\n18\\n\\nPage 95: Taylor need to do before this? A. get a certificate , B. teach\\nsmall children, C. work in a school\\nARC Science Choose your answer to the question: Which technology was\\ndeveloped most recently? A. cellular telephone, B. television,\\nC. refrigerator, D. airplane\\nQASC Science Choose your answer to the question: What is described in terms\\nof temperature and water in the air? A. storms; B. climate;\\nC. mass; D. seasonal; E. winter; F. density; G. length\\nHellaSWAG Event Choose your answer to the question: We see a chair with a pillow\\non it. A. a man holding a cat does curling. B. a man holding a\\ncat starts hitting objects on an item. C. a man holding a cat is\\nwrapping a box. D. a man holding a cat sits down on the\\nchair.\\nNumerSense Numerical a square is a shape with 〈mask〉equally length sides. (four)\\nProtoQA Prototypical Use simple words separated by commas to name something in\\nyour life that could cause you to lose weight. ( Eating less,\\nexercising more, stress.)' name='retrieve_documents' id='ea4dacf7-304b-41a2-bec9-823b1188be5d' tool_call_id='68f1825e-08ba-4b9d-b966-43b3e5b8db8d'\n",
      "\n",
      "\n",
      "Update from node: rewrite_question\n",
      "----------------------------------------\n",
      "{'role': 'user', 'content': '<think>\\nOkay, the user asked \"Tell me about earth.\" I need to figure out what they really want. The word \"earth\" can mean different things. It could be the planet Earth, like the third rock from the sun, or it could refer to the soil, like the ground we walk on. Maybe they\\'re asking about the planet, but maybe they want information about the soil. \\n\\nWait, the original question is pretty vague. The user might not have specified which \"earth\" they\\'re interested in. So the improved question should clarify that. Let me think. If I ask \"Are you referring to the planet Earth or the soil (earth)?\", that would help narrow it down. But maybe there\\'s a better way. Alternatively, I could split it into two parts. For example, \"Could you clarify if you\\'re asking about the planet Earth or the soil (earth)?\" That way, the user can specify which one they want. \\n\\nAlternatively, maybe the user is asking about the Earth as a planet, but they might want more details. But since the original question is too broad, the improved version should ask for clarification. Let me check if there are other possible interpretations. Maybe \"earth\" could also refer to the element earth in the four elements, but that\\'s less likely. The main possibilities are planet Earth or soil. So the best approach is to ask the user to specify which one they mean. That way, the answer can be more accurate. So the improved question would be something like, \"Are you referring to the planet Earth or the soil (earth)?\" That should cover the main possibilities and ensure the user gets the information they need.\\n</think>\\n\\n**Improved Question:**  \\n\"Are you referring to the planet Earth or the soil (earth)?\"  \\n\\n**Reasoning:**  \\nThe original question is ambiguous because \"earth\" can refer to the planet, the ground/soil, or even the element. Clarifying the intent ensures the response addresses the user\\'s specific need, whether they want geological, astronomical, or environmental information.'}\n",
      "\n",
      "\n",
      "Update from node: generate_query_or_respond\n",
      "----------------------------------------\n",
      "content='<think>\\n</think>\\n\\n**Answer:**  \\nThe term \"earth\" can refer to two distinct concepts:  \\n\\n1. **Planet Earth**  \\n   - The third planet in our solar system, known for its diverse ecosystems, oceans, atmosphere, and unique conditions that support life.  \\n   - It is composed of layers including the crust (soil and rock), mantle, and core.  \\n\\n2. **Soil (Earth as ground)**  \\n   - The layer of mineral and organic material on the planet\\'s surface, formed by weathering of rocks and decomposition of organic matter.  \\n   - It is essential for plant growth and agriculture.  \\n\\nCould you clarify which concept you\\'re interested in? For example:  \\n- Are you asking about Earth as a planet (e.g., its geography, climate, or geology)?  \\n- Or are you referring to soil (e.g., its composition, role in ecosystems, or agricultural importance)?  \\n\\nThis will help provide a more accurate and detailed response! 🌍🌱' additional_kwargs={} response_metadata={'model': 'qwen3', 'created_at': '2025-09-21T15:24:13.1028177Z', 'done': True, 'done_reason': 'stop', 'total_duration': 1460842000, 'load_duration': 112311600, 'prompt_eval_count': 1282, 'prompt_eval_duration': 138630600, 'eval_count': 205, 'eval_duration': 1206368000, 'model_name': 'qwen3'} id='run--5e052eab-43ea-4f86-806a-58d70ee9b17b-0' usage_metadata={'input_tokens': 1282, 'output_tokens': 205, 'total_tokens': 1487}\n",
      "\n"
     ]
    }
   ],
   "source": [
    "question = \"Tell me about earth\"\n",
    "run_agentic_rag(question)"
   ]
  },
  {
   "cell_type": "code",
   "execution_count": null,
   "id": "fe1610de",
   "metadata": {},
   "outputs": [],
   "source": []
  }
 ],
 "metadata": {
  "kernelspec": {
   "display_name": "ml",
   "language": "python",
   "name": "python3"
  },
  "language_info": {
   "codemirror_mode": {
    "name": "ipython",
    "version": 3
   },
   "file_extension": ".py",
   "mimetype": "text/x-python",
   "name": "python",
   "nbconvert_exporter": "python",
   "pygments_lexer": "ipython3",
   "version": "3.11.13"
  }
 },
 "nbformat": 4,
 "nbformat_minor": 5
}
