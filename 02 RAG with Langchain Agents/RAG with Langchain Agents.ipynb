{
 "cells": [
  {
   "attachments": {
    "image.png": {
     "image/png": "[encoded data removed]"
    }
   },
   "cell_type": "markdown",
   "id": "3c364c80",
   "metadata": {},
   "source": [
    "### Langchain Agent in V1\n",
    "![image.png](attachment:image.png)\n",
    "\n",
    "```\n",
    "from langgraph.prebuilt import create_react_agent\n",
    "\n",
    "now ->\n",
    "\n",
    "from langchain.agents import create_agent\n",
    "```"
   ]
  },
  {
   "cell_type": "code",
   "execution_count": 1,
   "id": "750be741",
   "metadata": {},
   "outputs": [
    {
     "name": "stdout",
     "output_type": "stream",
     "text": [
      "✓ Using Ollama qwen3 + nomic-embed-text\n",
      "✓ Connected to existing Chroma vector store\n"
     ]
    }
   ],
   "source": [
    "# use the langchain pre-release for latest features\n",
    "# pip install --pre -U langchain langchain-ollama, langchain-chroma, langchain-core langchain-community\n",
    "\n",
    "# Required: pip install langchain langchain-ollama, langchain-chroma, langchain-core langchain-community\n",
    "\n",
    "from langchain_core.tools import tool\n",
    "from langchain.agents import create_agent\n",
    "from langchain_ollama import ChatOllama, OllamaEmbeddings\n",
    "from langchain_chroma import Chroma\n",
    "from dotenv import load_dotenv\n",
    "\n",
    "load_dotenv()\n",
    "\n",
    "# ============================================================================\n",
    "# LLM & VECTOR STORE SETUP\n",
    "# ============================================================================\n",
    "# Ollama LLM with Qwen3\n",
    "llm = ChatOllama(\n",
    "    model=\"qwen3\", \n",
    "    base_url=\"http://localhost:11434\"\n",
    ")\n",
    "\n",
    "# Ollama Embeddings\n",
    "embeddings = OllamaEmbeddings(\n",
    "    model=\"nomic-embed-text\",\n",
    "    base_url=\"http://localhost:11434\"\n",
    ")\n",
    "\n",
    "# Chroma Vector Store (assumes data already exists from previous code)\n",
    "vector_store = Chroma(\n",
    "    collection_name=\"pdf_collection\",\n",
    "    embedding_function=embeddings,\n",
    "    persist_directory=\"..\\\\01 Semantic Search\\\\chroma_db\"\n",
    ")\n",
    "\n",
    "print(\"✓ Using Ollama qwen3 + nomic-embed-text\")\n",
    "print(\"✓ Connected to existing Chroma vector store\")\n"
   ]
  },
  {
   "cell_type": "code",
   "execution_count": 2,
   "id": "c1ce7c29",
   "metadata": {},
   "outputs": [
    {
     "data": {
      "text/plain": [
       "AIMessage(content='<think>\\nOkay, the user said \"Hello\". I should respond in a friendly and welcoming manner. Let me make sure to acknowledge their greeting and offer assistance. Maybe add an emoji to keep it approachable. I should keep it simple and open-ended so they feel comfortable asking anything. Let me check for any typos or errors. Alright, that should work.\\n</think>\\n\\nHello! 😊 How can I assist you today? I\\'m here to help with any questions or tasks you might have!', additional_kwargs={}, response_metadata={'model': 'qwen3', 'created_at': '2025-09-21T12:11:43.0938081Z', 'done': True, 'done_reason': 'stop', 'total_duration': 2426048700, 'load_duration': 1615341000, 'prompt_eval_count': 9, 'prompt_eval_duration': 189843100, 'eval_count': 101, 'eval_duration': 616979300, 'model_name': 'qwen3'}, id='run--6bdaf00b-ec50-429e-be3e-0534a7990cd0-0', usage_metadata={'input_tokens': 9, 'output_tokens': 101, 'total_tokens': 110})"
      ]
     },
     "execution_count": 2,
     "metadata": {},
     "output_type": "execute_result"
    }
   ],
   "source": [
    "llm.invoke(\"Hello\")"
   ]
  },
  {
   "cell_type": "code",
   "execution_count": 4,
   "id": "53deb9de",
   "metadata": {},
   "outputs": [
    {
     "name": "stdout",
     "output_type": "stream",
     "text": [
      "\n",
      "🔍 Testing Vector Store Connection...\n",
      "✓ Collection 'pdf_collection' found with 593 documents\n",
      "\n",
      "✓ Sample search for 'methodology':\n",
      "  1. Page 59: involves providing accurate information and transparency about the model’s uncertainty and\n",
      "limitatio...\n",
      "  2. Page 60: This method could lead to biased or incomplete feedback due to the diversity of opinions\n",
      "among label...\n",
      "  3. Page 103: Method Non-football (DROP) Football (DROP) GSM8k\n",
      "Zero-Shot 43.86 51.77 16.38\n",
      "Standard Prompting 58.7...\n"
     ]
    }
   ],
   "source": [
    "# ============================================================================\n",
    "# VECTOR STORE VERIFICATION\n",
    "# ============================================================================\n",
    "print(\"\\n🔍 Testing Vector Store Connection...\")\n",
    "\n",
    "# Test 1: Check collection info\n",
    "collection = vector_store._collection\n",
    "doc_count = collection.count()\n",
    "print(f\"✓ Collection '{collection.name}' found with {doc_count} documents\")\n",
    "\n",
    "\n",
    "# Test 2: Sample similarity search\n",
    "test_query = \"methodology\"\n",
    "results = vector_store.similarity_search(test_query, k=3)\n",
    "print(f\"\\n✓ Sample search for '{test_query}':\")\n",
    "for i, doc in enumerate(results, 1):\n",
    "    print(f\"  {i}. Page {doc.metadata.get('page', '?')}: {doc.page_content[:100]}...\")\n",
    "\n",
    "\n"
   ]
  },
  {
   "cell_type": "code",
   "execution_count": 6,
   "id": "f2c7c069",
   "metadata": {},
   "outputs": [],
   "source": [
    "# results"
   ]
  },
  {
   "cell_type": "code",
   "execution_count": 8,
   "id": "fc82f15d",
   "metadata": {},
   "outputs": [],
   "source": [
    "# ============================================================================\n",
    "# RETRIEVAL TOOL\n",
    "# ============================================================================\n",
    "@tool(response_format=\"content_and_artifact\")\n",
    "def retrieve_context(query: str):\n",
    "    \"\"\"Retrieve relevant information from the document to answer the query.\"\"\"\n",
    "    print(f\"🔍 Searching: '{query}'\")\n",
    "    \n",
    "    # Perform similarity search\n",
    "    docs = vector_store.similarity_search(query, k=4)\n",
    "    \n",
    "    # Format for LLM\n",
    "    content = \"\\n\\n\".join(\n",
    "        f\"Page {doc.metadata.get('page', '?')}: {doc.page_content}\" \n",
    "        for doc in docs\n",
    "    )\n",
    "    \n",
    "    print(f\"✓ Found {len(docs)} relevant chunks\")\n",
    "    return content, docs\n",
    "\n",
    "# ============================================================================\n",
    "# AGENT CREATION\n",
    "# ============================================================================\n",
    "# Tools for the agent (single tool only)\n",
    "tools = [retrieve_context]\n",
    "\n",
    "# Agent prompt - simplified for single tool\n",
    "prompt = \"\"\"You are a research assistant with a document retrieval tool.\n",
    "\n",
    "Tool:\n",
    "- retrieve_context: Search the document for relevant information\n",
    "\n",
    "Always use the tool to find relevant information before answering.\n",
    "Cite page numbers and be thorough.\"\"\"\n",
    "\n"
   ]
  },
  {
   "cell_type": "code",
   "execution_count": 9,
   "id": "717c7717",
   "metadata": {},
   "outputs": [
    {
     "data": {
      "image/png": "[encoded data removed]",
      "text/plain": [
       "<langgraph.graph.state.CompiledStateGraph object at 0x00000167AB7DED90>"
      ]
     },
     "execution_count": 9,
     "metadata": {},
     "output_type": "execute_result"
    }
   ],
   "source": [
    "# Create the agentic RAG\n",
    "rag_agent = create_agent(llm, tools, prompt=prompt)\n",
    "\n",
    "rag_agent\n"
   ]
  },
  {
   "cell_type": "code",
   "execution_count": 10,
   "id": "f4810cf8",
   "metadata": {},
   "outputs": [
    {
     "name": "stdout",
     "output_type": "stream",
     "text": [
      "🔍 Searching: 'What are the main methods mentioned in this paper?'\n",
      "✓ Found 4 relevant chunks\n"
     ]
    }
   ],
   "source": [
    "rag_agent\n",
    "\n",
    "response = rag_agent.invoke({'messages': \"What are the main methods mentioned in this paper?\"})"
   ]
  },
  {
   "cell_type": "code",
   "execution_count": 11,
   "id": "90bd0b04",
   "metadata": {},
   "outputs": [
    {
     "data": {
      "text/plain": [
       "{'messages': [HumanMessage(content='What are the main methods mentioned in this paper?', additional_kwargs={}, response_metadata={}, id='a1b8972c-4fa3-46da-bfe1-9a53858018fb'),\n",
       "  AIMessage(content=\"<think>\\nOkay, the user is asking about the main methods mentioned in the paper. Since I need to use the retrieve_context tool, I should start by calling that function with the query specifically asking for the main methods. The tool will search the document and return relevant information. I should make sure to cite page numbers and be thorough in the answer. Let me check if there are any other parameters needed, but the function only requires the query. Alright, I'll structure the tool call correctly.\\n</think>\\n\\n\", additional_kwargs={}, response_metadata={'model': 'qwen3', 'created_at': '2025-09-21T12:19:59.2848275Z', 'done': True, 'done_reason': 'stop', 'total_duration': 2665051100, 'load_duration': 1627213300, 'prompt_eval_count': 194, 'prompt_eval_duration': 204301000, 'eval_count': 130, 'eval_duration': 808121100, 'model_name': 'qwen3'}, id='run--d0e7b77c-35d2-4181-aaf9-af4de9351af4-0', tool_calls=[{'type': 'tool_call', 'id': 'f3b31897-98a2-4bc2-9a98-334fcc1230ca', 'name': 'retrieve_context', 'args': {'query': 'What are the main methods mentioned in this paper?'}}], usage_metadata={'input_tokens': 194, 'output_tokens': 130, 'total_tokens': 324}),\n",
       "  ToolMessage(content='Page 103: Method Non-football (DROP) Football (DROP) GSM8k\\nZero-Shot 43.86 51.77 16.38\\nStandard Prompting 58.78 62.73 17.06\\nChain-of-Thought 74.77 59.56 60.87\\nLeast-to-Most 82.45 73.42 62.39\\nTable 36: Accuracies of different prompting methods on GSM8k and DROP benchmarks. Source:\\nZhou et al. [244]\\nDECOMP is a text-based prompting strategy that decomposes complex tasks into simpler\\nsubtasks and generates a plan to solve the task, similar to Least-to-Most prompting. The\\ncore idea of Decomposed Prompting involves dividing a complex task into multiple simpler\\nsubtasks. Each subtask is addressed separately using LLMs, and their results are then combined\\nto produce the final outcome. Tasks are decomposed based on their inherent structure. For\\ninstance, a question-answering task might be split into subtasks involving information retrieval,\\ncomprehension, and synthesis. The model can process each step more effectively by focusing\\non these individual components.\\nFigure 48: The DECOMP framework. Source: Khot et al. [175]\\n\\nPage 4: the transformative impact of LLMs across various domains, including healthcare, finance,\\neducation, law, and scientific research.\\n• Section 3 focuses on the fundamental building blocks of LLMs, covering data preprocess-\\ning techniques, pre-training methodologies, and model adaptation strategies. It explores\\nvarious pre-training approaches, including unsupervised, supervised, and semi-supervised\\nlearning, emphasizing their impact on model performance and adaptability. The section\\nalso examines different data sources used in LLM training, categorizing them into gen-\\neral data like Web pages, books, and conversation text, specialized data such as scientific\\nliterature and code, and widely used datasets like Wikipedia, BookCorpus, and Com-\\nmonCrawl. It details the critical data preprocessing steps, such as quality filtering, data\\ncleaning, deduplication, and tokenization, and their role in preparing data for effective\\nLLM training. Moreover, it discusses model adaptation techniques like instruction tuning\\n\\nPage 95: Taylor need to do before this? A. get a certificate , B. teach\\nsmall children, C. work in a school\\nARC Science Choose your answer to the question: Which technology was\\ndeveloped most recently? A. cellular telephone, B. television,\\nC. refrigerator, D. airplane\\nQASC Science Choose your answer to the question: What is described in terms\\nof temperature and water in the air? A. storms; B. climate;\\nC. mass; D. seasonal; E. winter; F. density; G. length\\nHellaSWAG Event Choose your answer to the question: We see a chair with a pillow\\non it. A. a man holding a cat does curling. B. a man holding a\\ncat starts hitting objects on an item. C. a man holding a cat is\\nwrapping a box. D. a man holding a cat sits down on the\\nchair.\\nNumerSense Numerical a square is a shape with 〈mask〉equally length sides. (four)\\nProtoQA Prototypical Use simple words separated by commas to name something in\\nyour life that could cause you to lose weight. ( Eating less,\\nexercising more, stress.)\\n\\nPage 83: Figure 36: Taxonomy of in-context learning. The training and the inference stage are two main\\nstages for ICL. During the training stage, existing ICL studies mainly take a pre-trained LLM as the\\nbackbone and optionally warm up the model to strengthen and generalize the ICL ability. Towards\\nthe inference stage, the demonstration design and the scoring function selection are crucial for the\\nultimate performance. Source: Dong et al. [265]\\nDesigning branch). The selection aims to choose good examples for ICL using unsupervised 72\\nor supervised methods. For example, KATE [186] and EPR [208] select demonstrations based\\non similarity. Ordering the selected demonstrations is also an important aspect of demonstra-\\ntion design. Lu et al. [190] have proven that order sensitivity is a common problem and affects\\nvarious models. To address this problem, studies have proposed several training-free meth-\\nods for ordering demonstrations. Liu et al. [186] sorted examples based on similarity, while', name='retrieve_context', id='488111b4-6aed-4c56-bcac-5bdad815427d', tool_call_id='f3b31897-98a2-4bc2-9a98-334fcc1230ca', artifact=[Document(id='600b2c00-838b-47a4-9f3d-12e54d5c1373', metadata={'moddate': '2025-02-11T01:48:37+00:00', 'keywords': '', 'creationdate': '2025-02-11T01:48:37+00:00', 'subject': '', 'page_label': '104', 'total_pages': 174, 'page': 103, 'ptex.fullbanner': 'This is pdfTeX, Version 3.141592653-2.6-1.40.25 (TeX Live 2023) kpathsea version 6.3.5', 'producer': 'pdfTeX-1.40.25', 'author': '', 'title': '', 'source': 'https://arxiv.org/pdf/2501.04040.pdf', 'trapped': '/False', 'creator': 'LaTeX with hyperref', 'start_index': 0}, page_content='Method Non-football (DROP) Football (DROP) GSM8k\\nZero-Shot 43.86 51.77 16.38\\nStandard Prompting 58.78 62.73 17.06\\nChain-of-Thought 74.77 59.56 60.87\\nLeast-to-Most 82.45 73.42 62.39\\nTable 36: Accuracies of different prompting methods on GSM8k and DROP benchmarks. Source:\\nZhou et al. [244]\\nDECOMP is a text-based prompting strategy that decomposes complex tasks into simpler\\nsubtasks and generates a plan to solve the task, similar to Least-to-Most prompting. The\\ncore idea of Decomposed Prompting involves dividing a complex task into multiple simpler\\nsubtasks. Each subtask is addressed separately using LLMs, and their results are then combined\\nto produce the final outcome. Tasks are decomposed based on their inherent structure. For\\ninstance, a question-answering task might be split into subtasks involving information retrieval,\\ncomprehension, and synthesis. The model can process each step more effectively by focusing\\non these individual components.\\nFigure 48: The DECOMP framework. Source: Khot et al. [175]'), Document(id='02323f2f-d907-4229-ba40-9e7136f65dc3', metadata={'total_pages': 174, 'trapped': '/False', 'keywords': '', 'title': '', 'producer': 'pdfTeX-1.40.25', 'ptex.fullbanner': 'This is pdfTeX, Version 3.141592653-2.6-1.40.25 (TeX Live 2023) kpathsea version 6.3.5', 'subject': '', 'moddate': '2025-02-11T01:48:37+00:00', 'page_label': '5', 'start_index': 899, 'author': '', 'source': 'https://arxiv.org/pdf/2501.04040.pdf', 'page': 4, 'creationdate': '2025-02-11T01:48:37+00:00', 'creator': 'LaTeX with hyperref'}, page_content='the transformative impact of LLMs across various domains, including healthcare, finance,\\neducation, law, and scientific research.\\n• Section 3 focuses on the fundamental building blocks of LLMs, covering data preprocess-\\ning techniques, pre-training methodologies, and model adaptation strategies. It explores\\nvarious pre-training approaches, including unsupervised, supervised, and semi-supervised\\nlearning, emphasizing their impact on model performance and adaptability. The section\\nalso examines different data sources used in LLM training, categorizing them into gen-\\neral data like Web pages, books, and conversation text, specialized data such as scientific\\nliterature and code, and widely used datasets like Wikipedia, BookCorpus, and Com-\\nmonCrawl. It details the critical data preprocessing steps, such as quality filtering, data\\ncleaning, deduplication, and tokenization, and their role in preparing data for effective\\nLLM training. Moreover, it discusses model adaptation techniques like instruction tuning'), Document(id='12665abf-e4df-4e93-9090-37a5b6882bbe', metadata={'subject': '', 'moddate': '2025-02-11T01:48:37+00:00', 'title': '', 'ptex.fullbanner': 'This is pdfTeX, Version 3.141592653-2.6-1.40.25 (TeX Live 2023) kpathsea version 6.3.5', 'creationdate': '2025-02-11T01:48:37+00:00', 'trapped': '/False', 'creator': 'LaTeX with hyperref', 'source': 'https://arxiv.org/pdf/2501.04040.pdf', 'page_label': '96', 'keywords': '', 'producer': 'pdfTeX-1.40.25', 'author': '', 'page': 95, 'total_pages': 174, 'start_index': 894}, page_content='Taylor need to do before this? A. get a certificate , B. teach\\nsmall children, C. work in a school\\nARC Science Choose your answer to the question: Which technology was\\ndeveloped most recently? A. cellular telephone, B. television,\\nC. refrigerator, D. airplane\\nQASC Science Choose your answer to the question: What is described in terms\\nof temperature and water in the air? A. storms; B. climate;\\nC. mass; D. seasonal; E. winter; F. density; G. length\\nHellaSWAG Event Choose your answer to the question: We see a chair with a pillow\\non it. A. a man holding a cat does curling. B. a man holding a\\ncat starts hitting objects on an item. C. a man holding a cat is\\nwrapping a box. D. a man holding a cat sits down on the\\nchair.\\nNumerSense Numerical a square is a shape with 〈mask〉equally length sides. (four)\\nProtoQA Prototypical Use simple words separated by commas to name something in\\nyour life that could cause you to lose weight. ( Eating less,\\nexercising more, stress.)'), Document(id='1808df2f-f429-4ccd-9284-bb494e751617', metadata={'subject': '', 'total_pages': 174, 'source': 'https://arxiv.org/pdf/2501.04040.pdf', 'creator': 'LaTeX with hyperref', 'ptex.fullbanner': 'This is pdfTeX, Version 3.141592653-2.6-1.40.25 (TeX Live 2023) kpathsea version 6.3.5', 'moddate': '2025-02-11T01:48:37+00:00', 'page': 83, 'creationdate': '2025-02-11T01:48:37+00:00', 'keywords': '', 'page_label': '84', 'producer': 'pdfTeX-1.40.25', 'author': '', 'trapped': '/False', 'title': '', 'start_index': 1025}, page_content='Figure 36: Taxonomy of in-context learning. The training and the inference stage are two main\\nstages for ICL. During the training stage, existing ICL studies mainly take a pre-trained LLM as the\\nbackbone and optionally warm up the model to strengthen and generalize the ICL ability. Towards\\nthe inference stage, the demonstration design and the scoring function selection are crucial for the\\nultimate performance. Source: Dong et al. [265]\\nDesigning branch). The selection aims to choose good examples for ICL using unsupervised 72\\nor supervised methods. For example, KATE [186] and EPR [208] select demonstrations based\\non similarity. Ordering the selected demonstrations is also an important aspect of demonstra-\\ntion design. Lu et al. [190] have proven that order sensitivity is a common problem and affects\\nvarious models. To address this problem, studies have proposed several training-free meth-\\nods for ordering demonstrations. Liu et al. [186] sorted examples based on similarity, while')]),\n",
       "  AIMessage(content=\"<think>\\nOkay, the user is asking about the main methods mentioned in the paper. Let me look through the retrieved context to find relevant information.\\n\\nFirst, on page 103, there's a table comparing different prompting methods like Zero-Shot, Standard Prompting, Chain-of-Thought, and Least-to-Most. These are methods used in prompting strategies for models. Then, on page 4, there's a mention of DECOMP, which is a text-based prompting strategy that decomposes tasks into subtasks. The description explains that DECOMP involves breaking down complex tasks into simpler subtasks and using LLMs to address each part. \\n\\nLooking at page 95, there are examples of different tasks like ARC Science, QASC Science, HellaSWAG, NumerSense, and ProtoQA. These seem to be specific tasks or benchmarks used to evaluate models, but maybe they're part of the methods discussed. However, the user is asking about methods, not tasks. \\n\\nOn page 83, there's a discussion about in-context learning (ICL), mentioning training and inference stages. The text talks about demonstration design and scoring functions, as well as methods like KATE and EPR for selecting examples based on similarity. Also, Liu et al. [186] sorted examples by similarity. \\n\\nPutting this together, the main methods mentioned are various prompting strategies (Zero-Shot, Standard Prompting, Chain-of-Thought, Least-to-Most, DECOMP) and in-context learning techniques (ICL) with specific approaches like demonstration selection and ordering. The DECOMP method is detailed as decomposing tasks into subtasks, and ICL involves demonstration design and scoring functions. The KATE and EPR methods are part of the ICL framework for selecting examples. \\n\\nI need to make sure I'm not missing any other methods. The user might be looking for the primary techniques the paper discusses, so I should list these methods with their descriptions and citations where available.\\n</think>\\n\\nThe paper mentions several key methods, primarily focusing on prompting strategies and in-context learning (ICL) techniques. Here's a structured summary:\\n\\n1. **Prompting Methods**  \\n   - **Zero-Shot Prompting**: Achieved 43.86% accuracy on GSM8k (Page 103).  \\n   - **Standard Prompting**: Baseline method with 58.78% accuracy (Page 103).  \\n   - **Chain-of-Thought (CoT)**: Improved performance to 74.77% accuracy (Page 103).  \\n   - **Least-to-Most Prompting**: A step-by-step decomposition method, achieving 82.45% accuracy (Page 103).  \\n   - **DECOMP (Decomposed Prompting)**: A text-based strategy that breaks complex tasks into simpler subtasks (Page 4). For example, a question-answering task might split into retrieval, comprehension, and synthesis subtasks. The method emphasizes structured decomposition and combining subtask results (Page 4).  \\n\\n2. **In-Context Learning (ICL) Techniques**  \\n   - **Training Stage**: Pre-trained LLMs are warmed up to enhance ICL capabilities (Page 83).  \\n   - **Demonstration Design**: Critical for inference performance, involving example selection and ordering. Methods like **KATE** [186] and **EPR** [208] select demonstrations based on similarity.  \\n   - **Ordering Demonstrations**: Addressing order sensitivity, methods such as sorting examples by similarity (e.g., Liu et al. [186]) are proposed to improve consistency (Page 83).  \\n\\n3. **Task-Specific Methods**  \\n   - **ARC Science, QASC Science, HellaSWAG, NumerSense, ProtoQA**: These are benchmark tasks or datasets used to evaluate model performance, though they may not represent standalone methods (Page 95).  \\n\\nFor further details, refer to the cited works (e.g., Zhou et al. [244], Khot et al. [175], Dong et al. [265]).\", additional_kwargs={}, response_metadata={'model': 'qwen3', 'created_at': '2025-09-21T12:20:07.7491315Z', 'done': True, 'done_reason': 'stop', 'total_duration': 5746623500, 'load_duration': 184128400, 'prompt_eval_count': 1293, 'prompt_eval_duration': 114589600, 'eval_count': 862, 'eval_duration': 5429812800, 'model_name': 'qwen3'}, id='run--63a01e69-ff59-4eed-9fd2-0a7f0a46bcb9-0', usage_metadata={'input_tokens': 1293, 'output_tokens': 862, 'total_tokens': 2155})]}"
      ]
     },
     "execution_count": 11,
     "metadata": {},
     "output_type": "execute_result"
    }
   ],
   "source": [
    "response"
   ]
  },
  {
   "cell_type": "code",
   "execution_count": 12,
   "id": "e7f3bcf0",
   "metadata": {},
   "outputs": [],
   "source": [
    "# ============================================================================\n",
    "# QUERY FUNCTION\n",
    "# ============================================================================\n",
    "def ask(question: str):\n",
    "    \"\"\"Ask the agentic RAG a question.\"\"\"\n",
    "    print(f\"\\n{'='*60}\")\n",
    "    print(f\"Question: {question}\")\n",
    "    print('='*60)\n",
    "    \n",
    "    for event in rag_agent.stream(\n",
    "        {\"messages\": [{\"role\": \"user\", \"content\": question}]},\n",
    "        stream_mode=\"values\"\n",
    "    ):\n",
    "        msg = event[\"messages\"][-1]\n",
    "        \n",
    "        # Show tool usage\n",
    "        if hasattr(msg, 'tool_calls') and msg.tool_calls:\n",
    "            for tc in msg.tool_calls:\n",
    "                print(f\"\\n🔧 Using: {tc['name']} with {tc['args']}\")\n",
    "        \n",
    "        # Show final answer\n",
    "        elif hasattr(msg, 'content') and msg.content:\n",
    "            print(f\"\\n💬 Answer:\\n{msg.content}\")"
   ]
  },
  {
   "cell_type": "code",
   "execution_count": 13,
   "id": "ed913f8e",
   "metadata": {},
   "outputs": [
    {
     "name": "stdout",
     "output_type": "stream",
     "text": [
      "\n",
      "============================================================\n",
      "Question: What are the main methods mentioned in this paper?\n",
      "============================================================\n",
      "\n",
      "💬 Answer:\n",
      "What are the main methods mentioned in this paper?\n",
      "\n",
      "🔧 Using: retrieve_context with {'query': 'What are the main methods mentioned in this paper?'}\n",
      "🔍 Searching: 'What are the main methods mentioned in this paper?'\n",
      "✓ Found 4 relevant chunks\n",
      "\n",
      "💬 Answer:\n",
      "Page 103: Method Non-football (DROP) Football (DROP) GSM8k\n",
      "Zero-Shot 43.86 51.77 16.38\n",
      "Standard Prompting 58.78 62.73 17.06\n",
      "Chain-of-Thought 74.77 59.56 60.87\n",
      "Least-to-Most 82.45 73.42 62.39\n",
      "Table 36: Accuracies of different prompting methods on GSM8k and DROP benchmarks. Source:\n",
      "Zhou et al. [244]\n",
      "DECOMP is a text-based prompting strategy that decomposes complex tasks into simpler\n",
      "subtasks and generates a plan to solve the task, similar to Least-to-Most prompting. The\n",
      "core idea of Decomposed Prompting involves dividing a complex task into multiple simpler\n",
      "subtasks. Each subtask is addressed separately using LLMs, and their results are then combined\n",
      "to produce the final outcome. Tasks are decomposed based on their inherent structure. For\n",
      "instance, a question-answering task might be split into subtasks involving information retrieval,\n",
      "comprehension, and synthesis. The model can process each step more effectively by focusing\n",
      "on these individual components.\n",
      "Figure 48: The DECOMP framework. Source: Khot et al. [175]\n",
      "\n",
      "Page 4: the transformative impact of LLMs across various domains, including healthcare, finance,\n",
      "education, law, and scientific research.\n",
      "• Section 3 focuses on the fundamental building blocks of LLMs, covering data preprocess-\n",
      "ing techniques, pre-training methodologies, and model adaptation strategies. It explores\n",
      "various pre-training approaches, including unsupervised, supervised, and semi-supervised\n",
      "learning, emphasizing their impact on model performance and adaptability. The section\n",
      "also examines different data sources used in LLM training, categorizing them into gen-\n",
      "eral data like Web pages, books, and conversation text, specialized data such as scientific\n",
      "literature and code, and widely used datasets like Wikipedia, BookCorpus, and Com-\n",
      "monCrawl. It details the critical data preprocessing steps, such as quality filtering, data\n",
      "cleaning, deduplication, and tokenization, and their role in preparing data for effective\n",
      "LLM training. Moreover, it discusses model adaptation techniques like instruction tuning\n",
      "\n",
      "Page 95: Taylor need to do before this? A. get a certificate , B. teach\n",
      "small children, C. work in a school\n",
      "ARC Science Choose your answer to the question: Which technology was\n",
      "developed most recently? A. cellular telephone, B. television,\n",
      "C. refrigerator, D. airplane\n",
      "QASC Science Choose your answer to the question: What is described in terms\n",
      "of temperature and water in the air? A. storms; B. climate;\n",
      "C. mass; D. seasonal; E. winter; F. density; G. length\n",
      "HellaSWAG Event Choose your answer to the question: We see a chair with a pillow\n",
      "on it. A. a man holding a cat does curling. B. a man holding a\n",
      "cat starts hitting objects on an item. C. a man holding a cat is\n",
      "wrapping a box. D. a man holding a cat sits down on the\n",
      "chair.\n",
      "NumerSense Numerical a square is a shape with 〈mask〉equally length sides. (four)\n",
      "ProtoQA Prototypical Use simple words separated by commas to name something in\n",
      "your life that could cause you to lose weight. ( Eating less,\n",
      "exercising more, stress.)\n",
      "\n",
      "Page 83: Figure 36: Taxonomy of in-context learning. The training and the inference stage are two main\n",
      "stages for ICL. During the training stage, existing ICL studies mainly take a pre-trained LLM as the\n",
      "backbone and optionally warm up the model to strengthen and generalize the ICL ability. Towards\n",
      "the inference stage, the demonstration design and the scoring function selection are crucial for the\n",
      "ultimate performance. Source: Dong et al. [265]\n",
      "Designing branch). The selection aims to choose good examples for ICL using unsupervised 72\n",
      "or supervised methods. For example, KATE [186] and EPR [208] select demonstrations based\n",
      "on similarity. Ordering the selected demonstrations is also an important aspect of demonstra-\n",
      "tion design. Lu et al. [190] have proven that order sensitivity is a common problem and affects\n",
      "various models. To address this problem, studies have proposed several training-free meth-\n",
      "ods for ordering demonstrations. Liu et al. [186] sorted examples based on similarity, while\n",
      "\n",
      "💬 Answer:\n",
      "<think>\n",
      "Okay, let's tackle the user's question about the main methods mentioned in the paper. First, I need to go through the provided tool response to find relevant information.\n",
      "\n",
      "Looking at the pages retrieved, there's a mention of different prompting methods on page 103, like Zero-Shot, Standard Prompting, Chain-of-Thought, and Least-to-Most. These are all methods used in prompting strategies for models. Then, on page 4, there's a section about the fundamental building blocks of LLMs, including data preprocessing, pre-training methodologies, and model adaptation strategies. That covers techniques like unsupervised, supervised, and semi-supervised learning, as well as data sources and preprocessing steps.\n",
      "\n",
      "On page 95, there are examples of tasks and questions, which might relate to the application of these methods in specific domains. However, the main methods seem to be the prompting strategies and the LLM building blocks. Additionally, page 83 talks about in-context learning (ICL), with stages like training and inference, and methods for demonstration design and scoring functions. There's also mention of techniques like KATE and EPR for selecting demonstrations based on similarity, and ordering demonstrations to address order sensitivity.\n",
      "\n",
      "Putting this together, the main methods would include the various prompting techniques (Zero-Shot, Chain-of-Thought, etc.), the pre-training approaches (unsupervised, supervised), data preprocessing steps, and the ICL methods with demonstration design and ordering. The DECOMP framework mentioned on page 4 is another method, which decomposes tasks into subtasks. I should make sure to list these clearly, citing the relevant pages.\n",
      "</think>\n",
      "\n",
      "The paper mentions several key methods across different contexts. Here's a structured summary:\n",
      "\n",
      "1. **Prompting Strategies** (Page 103):  \n",
      "   - **Zero-Shot Prompting**: Achieved 43.86% accuracy on GSM8k.  \n",
      "   - **Standard Prompting**: 58.78% accuracy.  \n",
      "   - **Chain-of-Thought (CoT)**: 74.77% accuracy.  \n",
      "   - **Least-to-Most Prompting**: 82.45% accuracy.  \n",
      "   - These methods focus on leveraging pre-trained models for task execution through varied prompting techniques.\n",
      "\n",
      "2. **Decomposed Prompting (DECOMP)** (Page 4):  \n",
      "   - A text-based strategy that breaks complex tasks into simpler subtasks (e.g., information retrieval, comprehension, synthesis).  \n",
      "   - Combines results from subtasks to produce final outputs.  \n",
      "   - Similar to Least-to-Most but emphasizes structured decomposition.\n",
      "\n",
      "3. **In-Context Learning (ICL)** (Page 83):  \n",
      "   - **Training Stage**: Uses pre-trained LLMs with optional warm-up for generalizing ICL abilities.  \n",
      "   - **Inference Stage**: Focuses on demonstration design (e.g., similarity-based selection via KATE [186], EPR [208]) and scoring functions.  \n",
      "   - **Order Sensitivity**: Addressed through training-free methods like Liu et al. [186]’s similarity-based ordering.\n",
      "\n",
      "4. **LLM Fundamentals** (Page 4):  \n",
      "   - **Pre-Training Approaches**: Unsupervised, supervised, and semi-supervised learning.  \n",
      "   - **Data Sources**: General (Web pages, books) and specialized (scientific literature, code).  \n",
      "   - **Preprocessing**: Quality filtering, cleaning, deduplication, and tokenization.  \n",
      "   - **Adaptation Techniques**: Instruction tuning for model customization.\n",
      "\n",
      "5. **Task-Specific Applications** (Page 95):  \n",
      "   - Examples include science reasoning (ARC Science, QASC Science), commonsense reasoning (HellaSWAG), numerical reasoning (NumerSense), and prototypical QA (ProtoQA).  \n",
      "\n",
      "These methods collectively highlight the paper’s focus on improving LLM performance through advanced prompting, decomposition, and training strategies.\n"
     ]
    }
   ],
   "source": [
    "# ============================================================================\n",
    "# TESTING\n",
    "# ============================================================================\n",
    "# Test basic retrieval\n",
    "ask(\"What are the main methods mentioned in this paper?\")\n",
    "\n",
    "\n"
   ]
  },
  {
   "cell_type": "code",
   "execution_count": 14,
   "id": "4a082a77",
   "metadata": {},
   "outputs": [
    {
     "name": "stdout",
     "output_type": "stream",
     "text": [
      "\n",
      "🤖 Agentic RAG Chat - Type 'quit' to exit\n",
      "\n",
      "============================================================\n",
      "Question: what are methods of RAG?\n",
      "============================================================\n",
      "\n",
      "💬 Answer:\n",
      "what are methods of RAG?\n",
      "\n",
      "🔧 Using: retrieve_context with {'query': 'methods of RAG'}\n",
      "🔍 Searching: 'methods of RAG'\n",
      "✓ Found 4 relevant chunks\n",
      "\n",
      "💬 Answer:\n",
      "Page 122: Benchmarks such as SQuAD [33], Natural Questions [71], and specialized datasets for re-\n",
      "trieval tasks are widely used for assessment.\n",
      "Despite its promise, RAG faces several challenges:\n",
      "1. Retrieval Latency: Efficiently querying large databases in real time remains a technical\n",
      "hurdle.\n",
      "2. Data Quality: The reliability of generated outputs depends heavily on the quality of\n",
      "retrieved data.\n",
      "3. Scalability: Handling large-scale retrieval tasks while maintaining high generation quality\n",
      "is complex.\n",
      "Future research avenues include:\n",
      "• Expanding RAG frameworks to support multi-modal inputs, such as text, images, and\n",
      "audio.\n",
      "• Enhancing retrieval efficiency through novel indexing and search techniques.\n",
      "• Improving integration mechanisms for tighter coupling between retrieval and generation\n",
      "modules.\n",
      "RAG represents a transformative step in LLM development, bridging the gap between static\n",
      "pre-trained knowledge and dynamic, context-aware generation. By combining retrieval and\n",
      "\n",
      "Page 122: Self-RAG [262] enable LLMs to determine optimal retrieval moments and content, im-\n",
      "proving the adaptive capabilities of RAG frameworks. GraphToolformer [291] divides\n",
      "retrieval into distinct stages, where LLMs actively utilize tools such as retrievers and\n",
      "apply techniques like Self-Ask or few-shot prompts to guide the process. WebGPT [124]\n",
      "integrates reinforcement learning to train LLMs for autonomous search engine usage. By\n",
      "leveraging special tokens for actions such as querying, browsing, and citing sources, it\n",
      "mimics an agent actively gathering and validating information during generation.\n",
      "Some of the most widely used metrics for evaluating RAG systems include:\n",
      "• Retrieval Precision: Measures the relevance of retrieved data.\n",
      "• Generation Accuracy: Assesses the factual correctness of outputs.\n",
      "• End-to-End Performance: Evaluates the overall coherence, fluency, and informativeness\n",
      "of the system.\n",
      "Benchmarks such as SQuAD [33], Natural Questions [71], and specialized datasets for re-\n",
      "\n",
      "Page 116: 1. Enhanced Knowledge Integration : By querying external databases, RAG systems\n",
      "continuously update their knowledge base, addressing the limitations of static pre-trained\n",
      "models.\n",
      "2. Improved Accuracy: Retrieved data serves as contextual grounding, reducing halluci-\n",
      "nations and increasing the factual reliability of generated outputs.\n",
      "117\n",
      "\n",
      "Page 117: hance the relevance of retrieved data. For indexing, it uses more sophisticated techniques\n",
      "like sliding window approach, fine-grained segmentation and metadata. It incorporates\n",
      "additional optimization techniques to streamline the retrieval process [280].\n",
      "3. Modular RAG: this architecture advances beyond previous RAG paradigms (Naive and\n",
      "Advanced RAG) by offering greater adaptability, flexibility, and functionality. It intro-\n",
      "duces new components and interaction patterns to address the challenges of static and\n",
      "rigid retrieval-generation frameworks, making it suitable for diverse tasks and dynamic\n",
      "scenarios. Modular RAG incorporates specialized modules to enhance retrieval and gen-\n",
      "eration:\n",
      "• Search Module: Supports direct searches across diverse data sources such as databases,\n",
      "search engines, and knowledge graphs using LLM-generated queries [303].\n",
      "• RAGFusion: Implements multi-query strategies for diverse perspectives, utilizing\n",
      "parallel searches and re-ranking for knowledge discovery [320].\n",
      "118\n",
      "\n",
      "💬 Answer:\n",
      "<think>\n",
      "Okay, the user asked about the methods of RAG. Let me go through the retrieved document to find relevant information.\n",
      "\n",
      "First, on page 116, it mentions Enhanced Knowledge Integration and Improved Accuracy. These are benefits, not methods, but they might relate to techniques used. Then, page 117 talks about indexing techniques like sliding window and fine-grained segmentation. That's a method for retrieval. \n",
      "\n",
      "Looking at page 122, there's mention of Self-RAG, GraphToolformer, and WebGPT. These seem like specific methods or frameworks. Also, the document discusses retrieval precision and generation accuracy as metrics, which might tie into evaluation methods. \n",
      "\n",
      "Modular RAG is mentioned on page 118, with components like Search Module and RAGFusion. These are architectural methods. The text also refers to techniques like Self-Ask and few-shot prompts, which are part of the retrieval process. \n",
      "\n",
      "I need to organize these points into clear methods. The answer should include retrieval techniques (dense vs. sparse), generation integration, modular architectures, and evaluation metrics. Make sure to cite the page numbers for each point.\n",
      "</think>\n",
      "\n",
      "The methods of Retrieval-Augmented Generation (RAG) involve integrating retrieval systems with language models to enhance generation quality. Key methods include:\n",
      "\n",
      "1. **Retrieval Techniques**  \n",
      "   - **Dense Retrieval**: Uses transformer-based models (e.g., BERT) to retrieve relevant documents based on semantic similarity [Page 117].  \n",
      "   - **Sparse Retrieval**: Relies on inverted indexes and keyword matching for faster queries [Page 117].  \n",
      "   - **Hybrid Approaches**: Combines dense and sparse methods for efficiency and accuracy [Page 117].  \n",
      "\n",
      "2. **Modular RAG Architecture**  \n",
      "   - **Search Module**: Enables direct searches across databases, search engines, and knowledge graphs using LLM-generated queries [Page 118].  \n",
      "   - **RAGFusion**: Implements multi-query strategies with parallel searches and re-ranking to gather diverse perspectives [Page 118].  \n",
      "\n",
      "3. **Interactive Retrieval-Generation Frameworks**  \n",
      "   - **Self-RAG**: Allows LLMs to dynamically decide when and what to retrieve, improving adaptability [Page 122].  \n",
      "   - **GraphToolformer**: Structures retrieval into stages, using tools like retrievers and techniques such as Self-Ask or few-shot prompts [Page 122].  \n",
      "   - **WebGPT**: Integrates reinforcement learning for autonomous search, using special tokens to simulate agent-like information gathering [Page 122].  \n",
      "\n",
      "4. **Evaluation Metrics**  \n",
      "   - **Retrieval Precision**: Measures the relevance of retrieved data [Page 122].  \n",
      "   - **Generation Accuracy**: Assesses factual correctness of outputs [Page 122].  \n",
      "   - **End-to-End Performance**: Evaluates coherence, fluency, and informativeness of the system [Page 122].  \n",
      "\n",
      "These methods address challenges like retrieval latency, data quality, and scalability while enhancing knowledge integration and reducing hallucinations [Page 116].\n"
     ]
    }
   ],
   "source": [
    "# ============================================================================\n",
    "# INTERACTIVE CHAT\n",
    "# ============================================================================\n",
    "def chat():\n",
    "    \"\"\"Start interactive chat with the agentic RAG.\"\"\"\n",
    "    print(\"\\n🤖 Agentic RAG Chat - Type 'quit' to exit\")\n",
    "    \n",
    "    while True:\n",
    "        question = input(\"\\nYour question: \").strip()\n",
    "        if question.lower() in ['quit', 'exit', 'q']:\n",
    "            break\n",
    "        if question:\n",
    "            ask(question)\n",
    "\n",
    "chat()"
   ]
  }
 ],
 "metadata": {
  "kernelspec": {
   "display_name": "ml",
   "language": "python",
   "name": "python3"
  },
  "language_info": {
   "codemirror_mode": {
    "name": "ipython",
    "version": 3
   },
   "file_extension": ".py",
   "mimetype": "text/x-python",
   "name": "python",
   "nbconvert_exporter": "python",
   "pygments_lexer": "ipython3",
   "version": "3.11.13"
  }
 },
 "nbformat": 4,
 "nbformat_minor": 5
}
